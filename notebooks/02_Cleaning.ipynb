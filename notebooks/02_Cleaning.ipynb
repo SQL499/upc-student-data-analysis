{
 "cells": [
  {
   "cell_type": "code",
   "execution_count": null,
   "id": "c59d306f",
   "metadata": {},
   "outputs": [
    {
     "name": "stdout",
     "output_type": "stream",
     "text": [
      "📁 Notebook path: C:\\Users\\Usuario\\Desktop\\upc-student-data-analysis\\notebooks\n",
      "📁 Proyecto raíz: C:\\Users\\Usuario\\Desktop\\upc-student-data-analysis\n",
      "📄 Archivo a leer: C:\\Users\\Usuario\\Desktop\\upc-student-data-analysis\\data\\raw\\upc_alumnos.csv\n"
     ]
    }
   ],
   "source": [
    "from pathlib import Path\n",
    "import pandas as pd\n",
    "\n",
    "# Detectar el path base del proyecto (un nivel arriba del notebook)\n",
    "notebook_path = Path().resolve()\n",
    "project_root = notebook_path.parent if notebook_path.name == \"notebooks\" else notebook_path\n",
    "\n",
    "# Rutas útiles\n",
    "ruta_raw = project_root / \"data\" / \"raw\" / \"upc_alumnos.csv\"\n",
    "ruta_limpio = project_root / \"data\" / \"processed\" / \"upc_alumnos_limpio.csv\"\n",
    "\n",
    "# Verificación\n",
    "print(f\"📁 Notebook path: {notebook_path}\")\n",
    "print(f\"📁 Proyecto raíz: {project_root}\")\n",
    "print(f\"📄 Archivo a leer: {ruta_raw}\")\n"
   ]
  },
  {
   "cell_type": "markdown",
   "id": "31d28964",
   "metadata": {},
   "source": [
    "# 1. Cargar datos\n"
   ]
  },
  {
   "cell_type": "code",
   "execution_count": 4,
   "id": "1579a738",
   "metadata": {},
   "outputs": [],
   "source": [
    "df = pd.read_csv('../data/raw/upc_alumnos.csv')"
   ]
  },
  {
   "cell_type": "markdown",
   "id": "298618ae",
   "metadata": {},
   "source": [
    "# 2. Normalización de texto"
   ]
  },
  {
   "cell_type": "code",
   "execution_count": 5,
   "id": "4b5ffbc0",
   "metadata": {},
   "outputs": [],
   "source": [
    "def normalizar_texto(texto):\n",
    "    if pd.isna(texto):\n",
    "        return texto\n",
    "    return texto.strip().title()\n",
    "\n",
    "columnas_texto = ['nombres', 'apellido_paterno', 'apellido_materno']\n",
    "for col in columnas_texto:\n",
    "    df[col] = df[col].astype(str).apply(normalizar_texto)\n",
    "\n",
    "df['correo'] = df['correo'].astype(str).str.strip().str.lower()\n",
    "df['correo_universitario'] = df['correo_universitario'].astype(str).str.strip().str.lower()"
   ]
  },
  {
   "cell_type": "markdown",
   "id": "8540a9df",
   "metadata": {},
   "source": [
    "# 3. Clasificación de correos"
   ]
  },
  {
   "cell_type": "code",
   "execution_count": 6,
   "id": "be324c85",
   "metadata": {},
   "outputs": [],
   "source": [
    "df['dominio_correo'] = df['correo'].apply(lambda x: x.split('@')[-1] if '@' in x else 'desconocido')"
   ]
  },
  {
   "cell_type": "markdown",
   "id": "3c4adc84",
   "metadata": {},
   "source": [
    "### Correos válidos\n"
   ]
  },
  {
   "cell_type": "code",
   "execution_count": 7,
   "id": "5a90cf02",
   "metadata": {},
   "outputs": [],
   "source": [
    "df['correo_valido'] = df['correo'].str.match(r'^[\\w\\.-]+@[\\w\\.-]+\\.\\w+$')"
   ]
  },
  {
   "cell_type": "markdown",
   "id": "640f1102",
   "metadata": {},
   "source": [
    "# 4. Validación de número de teléfono"
   ]
  },
  {
   "cell_type": "code",
   "execution_count": 8,
   "id": "bb213d83",
   "metadata": {},
   "outputs": [],
   "source": [
    "df['numero'] = df['numero'].astype(str).str.strip()\n",
    "df['telefono_valido'] = df['numero'].str.match(r'^9\\d{8}$')"
   ]
  },
  {
   "cell_type": "markdown",
   "id": "05568ca6",
   "metadata": {},
   "source": [
    "# 5. Comparación de correos personales vs institucionales"
   ]
  },
  {
   "cell_type": "code",
   "execution_count": 9,
   "id": "6b66bb55",
   "metadata": {},
   "outputs": [],
   "source": [
    "df['usa_correo_institucional'] = df.apply(lambda row: row['correo'] == row['correo_universitario'], axis=1)"
   ]
  },
  {
   "cell_type": "markdown",
   "id": "a7affe8e",
   "metadata": {},
   "source": [
    "# 6. Eliminación de duplicados y registros inválidos"
   ]
  },
  {
   "cell_type": "markdown",
   "id": "dca46bdf",
   "metadata": {},
   "source": [
    "### Eliminar duplicados exactos"
   ]
  },
  {
   "cell_type": "code",
   "execution_count": 10,
   "id": "ecd956f7",
   "metadata": {},
   "outputs": [],
   "source": [
    "df = df.drop_duplicates()"
   ]
  },
  {
   "cell_type": "markdown",
   "id": "2345ae19",
   "metadata": {},
   "source": [
    "### Eliminar registros sin código"
   ]
  },
  {
   "cell_type": "code",
   "execution_count": 11,
   "id": "315c39bb",
   "metadata": {},
   "outputs": [],
   "source": [
    "df = df[df['codigo'].notnull() & (df['codigo'].str.strip() != '')]"
   ]
  },
  {
   "cell_type": "markdown",
   "id": "65cd2a23",
   "metadata": {},
   "source": [
    "### Marcar registros incompletos (más de 2 campos vacíos)"
   ]
  },
  {
   "cell_type": "code",
   "execution_count": 12,
   "id": "0fc5815f",
   "metadata": {},
   "outputs": [],
   "source": [
    "df['registro_incompleto'] = df.isnull().sum(axis=1) > 2"
   ]
  },
  {
   "cell_type": "markdown",
   "id": "9516bb1b",
   "metadata": {},
   "source": [
    "### Eliminar registros muy incompletos"
   ]
  },
  {
   "cell_type": "code",
   "execution_count": 13,
   "id": "c7146388",
   "metadata": {},
   "outputs": [],
   "source": [
    "df = df[df['registro_incompleto'] == False]"
   ]
  },
  {
   "cell_type": "markdown",
   "id": "2ad61136",
   "metadata": {},
   "source": [
    "# 7. Guardar archivo limpio"
   ]
  },
  {
   "cell_type": "code",
   "execution_count": null,
   "id": "0c353e61",
   "metadata": {},
   "outputs": [
    {
     "name": "stdout",
     "output_type": "stream",
     "text": [
      "✅ Datos limpios guardados en 'data/processed/upc_alumnos_limpio.csv'\n"
     ]
    }
   ],
   "source": [
    "df.to_csv('../data/processed/upc_alumnos_limpio.csv', index=False)\n",
    "print(\"✅ Datos limpios guardados en 'data/processed/upc_alumnos_limpio.csv'\")"
   ]
  }
 ],
 "metadata": {
  "kernelspec": {
   "display_name": "Python 3",
   "language": "python",
   "name": "python3"
  },
  "language_info": {
   "codemirror_mode": {
    "name": "ipython",
    "version": 3
   },
   "file_extension": ".py",
   "mimetype": "text/x-python",
   "name": "python",
   "nbconvert_exporter": "python",
   "pygments_lexer": "ipython3",
   "version": "3.12.1"
  }
 },
 "nbformat": 4,
 "nbformat_minor": 5
}
