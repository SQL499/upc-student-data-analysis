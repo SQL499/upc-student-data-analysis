{
 "cells": [
  {
   "cell_type": "code",
   "execution_count": null,
   "id": "84855b7d",
   "metadata": {},
   "outputs": [],
   "source": [
    "from pathlib import Path\n",
    "import pandas as pd\n",
    "from sklearn.preprocessing import OneHotEncoder\n",
    "from sklearn.model_selection import train_test_split\n",
    "from sklearn.ensemble import RandomForestClassifier\n",
    "from sklearn.metrics import classification_report, confusion_matrix"
   ]
  },
  {
   "cell_type": "markdown",
   "id": "1f6b4c9a",
   "metadata": {},
   "source": [
    "# 1. Cargar dataset limpio"
   ]
  },
  {
   "cell_type": "code",
   "execution_count": 20,
   "id": "d4dcc8bd",
   "metadata": {},
   "outputs": [
    {
     "name": "stdout",
     "output_type": "stream",
     "text": [
      "✅ Dataset cargado: (72935, 12)\n"
     ]
    }
   ],
   "source": [
    "# Base del proyecto\n",
    "base_dir = Path().resolve().parent\n",
    "ruta_limpia = base_dir / \"data\" / \"processed\" / \"upc_alumnos_limpio.csv\"\n",
    "\n",
    "# Cargar datos limpios\n",
    "df = pd.read_csv(ruta_limpia)\n",
    "print(\"✅ Dataset cargado:\", df.shape)"
   ]
  },
  {
   "cell_type": "markdown",
   "id": "3b6b9a15",
   "metadata": {},
   "source": [
    "# 2. Feature engineering (conversión de texto a números)"
   ]
  },
  {
   "cell_type": "code",
   "execution_count": 21,
   "id": "efa228c7",
   "metadata": {},
   "outputs": [],
   "source": [
    "# Longitud de campos\n",
    "df['len_nombre'] = df['nombres'].astype(str).apply(len)\n",
    "df['len_apellido_paterno'] = df['apellido_paterno'].astype(str).apply(len)\n",
    "df['len_apellido_materno'] = df['apellido_materno'].astype(str).apply(len)\n",
    "\n",
    "# Validación y binarización\n",
    "df['telefono_valido'] = df['telefono_valido'].astype(int)\n",
    "df['usa_correo_upc'] = df['usa_correo_institucional'].astype(int)\n",
    "\n",
    "# Dominio de correo como variable categórica\n",
    "df['dominio_correo'] = df['correo'].astype(str).apply(lambda x: x.split('@')[-1] if '@' in x else 'desconocido')"
   ]
  },
  {
   "cell_type": "markdown",
   "id": "67e007fb",
   "metadata": {},
   "source": [
    "# 3. Codificación y selección de variables"
   ]
  },
  {
   "cell_type": "code",
   "execution_count": 25,
   "id": "ffea49f6",
   "metadata": {},
   "outputs": [],
   "source": [
    "# One-hot encoding para dominios de correo\n",
    "ohe = OneHotEncoder(sparse_output=False, handle_unknown='ignore')\n",
    "dominios_encoded = ohe.fit_transform(df[['dominio_correo']])\n",
    "dominios_df = pd.DataFrame(dominios_encoded, columns=ohe.get_feature_names_out(['dominio_correo']))\n",
    "\n",
    "# Unir con el resto del dataset\n",
    "X = pd.concat([\n",
    "    df[['len_nombre', 'len_apellido_paterno', 'len_apellido_materno', 'telefono_valido']],\n",
    "    dominios_df\n",
    "], axis=1)\n",
    "\n",
    "y = df['usa_correo_upc']"
   ]
  },
  {
   "cell_type": "markdown",
   "id": "fe77d9db",
   "metadata": {},
   "source": [
    "# 4. Modelo predictivo y evaluación"
   ]
  },
  {
   "cell_type": "code",
   "execution_count": 26,
   "id": "44568dd1",
   "metadata": {},
   "outputs": [
    {
     "name": "stdout",
     "output_type": "stream",
     "text": [
      "✅ Reporte de clasificación:\n",
      "               precision    recall  f1-score   support\n",
      "\n",
      "           0       1.00      1.00      1.00     14311\n",
      "           1       0.95      0.98      0.97       276\n",
      "\n",
      "    accuracy                           1.00     14587\n",
      "   macro avg       0.98      0.99      0.98     14587\n",
      "weighted avg       1.00      1.00      1.00     14587\n",
      "\n",
      "📊 Matriz de confusión:\n",
      " [[14298    13]\n",
      " [    6   270]]\n"
     ]
    }
   ],
   "source": [
    "# División de datos\n",
    "X_train, X_test, y_train, y_test = train_test_split(X, y, test_size=0.2, random_state=42)\n",
    "\n",
    "# Modelo\n",
    "model = RandomForestClassifier(random_state=42)\n",
    "model.fit(X_train, y_train)\n",
    "\n",
    "# Predicciones\n",
    "y_pred = model.predict(X_test)\n",
    "\n",
    "# Evaluación\n",
    "print(\"✅ Reporte de clasificación:\\n\", classification_report(y_test, y_pred))\n",
    "print(\"📊 Matriz de confusión:\\n\", confusion_matrix(y_test, y_pred))\n"
   ]
  }
 ],
 "metadata": {
  "kernelspec": {
   "display_name": "Python 3",
   "language": "python",
   "name": "python3"
  },
  "language_info": {
   "codemirror_mode": {
    "name": "ipython",
    "version": 3
   },
   "file_extension": ".py",
   "mimetype": "text/x-python",
   "name": "python",
   "nbconvert_exporter": "python",
   "pygments_lexer": "ipython3",
   "version": "3.12.1"
  }
 },
 "nbformat": 4,
 "nbformat_minor": 5
}
